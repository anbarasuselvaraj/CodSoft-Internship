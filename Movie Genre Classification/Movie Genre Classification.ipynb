{
 "cells": [
  {
   "cell_type": "code",
   "execution_count": 1,
   "id": "4c16728d-43fa-4281-b295-0b105c3e5440",
   "metadata": {},
   "outputs": [],
   "source": [
    "import pandas as pd\n",
    "from sklearn.feature_extraction.text import TfidfVectorizer\n",
    "from sklearn.naive_bayes import MultinomialNB\n",
    "from sklearn.linear_model import LogisticRegression\n",
    "from sklearn.svm import SVC\n",
    "from sklearn.metrics import accuracy_score, classification_report\n",
    "from sklearn.model_selection import train_test_split"
   ]
  },
  {
   "cell_type": "code",
   "execution_count": 3,
   "id": "c83faa7d-cda9-4365-8e33-8379b866b51f",
   "metadata": {},
   "outputs": [],
   "source": [
    "training_data_file = \"train_data.txt\"\n",
    "validation_data_file = \"test_data_solution.txt\"\n",
    "test_data_file = \"test_data.txt\""
   ]
  },
  {
   "cell_type": "code",
   "execution_count": 5,
   "id": "daf7741f-0bc1-4ab4-b839-d4f21817854a",
   "metadata": {},
   "outputs": [
    {
     "name": "stderr",
     "output_type": "stream",
     "text": [
      "C:\\Users\\gowth\\AppData\\Local\\Temp\\ipykernel_25604\\968071216.py:1: ParserWarning: Falling back to the 'python' engine because the 'c' engine does not support regex separators (separators > 1 char and different from '\\s+' are interpreted as regex); you can avoid this warning by specifying engine='python'.\n",
      "  train_df = pd.read_csv(training_data_file, delimiter=\" ::: \", names=[\"index\", \"movie_name\", \"genre\", \"description\"])\n",
      "C:\\Users\\gowth\\AppData\\Local\\Temp\\ipykernel_25604\\968071216.py:2: ParserWarning: Falling back to the 'python' engine because the 'c' engine does not support regex separators (separators > 1 char and different from '\\s+' are interpreted as regex); you can avoid this warning by specifying engine='python'.\n",
      "  validation_df = pd.read_csv(validation_data_file, delimiter=\" ::: \", names=[\"index\", \"movie_name\", \"genre\", \"description\"])\n",
      "C:\\Users\\gowth\\AppData\\Local\\Temp\\ipykernel_25604\\968071216.py:3: ParserWarning: Falling back to the 'python' engine because the 'c' engine does not support regex separators (separators > 1 char and different from '\\s+' are interpreted as regex); you can avoid this warning by specifying engine='python'.\n",
      "  test_df = pd.read_csv(test_data_file, delimiter=\" ::: \", names=[\"index\", \"movie_name\", \"description\"])\n"
     ]
    }
   ],
   "source": [
    "train_df = pd.read_csv(training_data_file, delimiter=\" ::: \", names=[\"index\", \"movie_name\", \"genre\", \"description\"])\n",
    "validation_df = pd.read_csv(validation_data_file, delimiter=\" ::: \", names=[\"index\", \"movie_name\", \"genre\", \"description\"])\n",
    "test_df = pd.read_csv(test_data_file, delimiter=\" ::: \", names=[\"index\", \"movie_name\", \"description\"])\n",
    "combined_df = pd.concat([train_df, validation_df])"
   ]
  },
  {
   "cell_type": "code",
   "execution_count": 7,
   "id": "d04cdf1f-25b0-4259-9f9a-01eabe2632ac",
   "metadata": {},
   "outputs": [
    {
     "data": {
      "text/html": [
       "<div>\n",
       "<style scoped>\n",
       "    .dataframe tbody tr th:only-of-type {\n",
       "        vertical-align: middle;\n",
       "    }\n",
       "\n",
       "    .dataframe tbody tr th {\n",
       "        vertical-align: top;\n",
       "    }\n",
       "\n",
       "    .dataframe thead th {\n",
       "        text-align: right;\n",
       "    }\n",
       "</style>\n",
       "<table border=\"1\" class=\"dataframe\">\n",
       "  <thead>\n",
       "    <tr style=\"text-align: right;\">\n",
       "      <th></th>\n",
       "      <th>index</th>\n",
       "      <th>movie_name</th>\n",
       "      <th>genre</th>\n",
       "      <th>description</th>\n",
       "    </tr>\n",
       "  </thead>\n",
       "  <tbody>\n",
       "    <tr>\n",
       "      <th>0</th>\n",
       "      <td>1</td>\n",
       "      <td>Oscar et la dame rose (2009)</td>\n",
       "      <td>drama</td>\n",
       "      <td>Listening in to a conversation between his doc...</td>\n",
       "    </tr>\n",
       "    <tr>\n",
       "      <th>1</th>\n",
       "      <td>2</td>\n",
       "      <td>Cupid (1997)</td>\n",
       "      <td>thriller</td>\n",
       "      <td>A brother and sister with a past incestuous re...</td>\n",
       "    </tr>\n",
       "    <tr>\n",
       "      <th>2</th>\n",
       "      <td>3</td>\n",
       "      <td>Young, Wild and Wonderful (1980)</td>\n",
       "      <td>adult</td>\n",
       "      <td>As the bus empties the students for their fiel...</td>\n",
       "    </tr>\n",
       "    <tr>\n",
       "      <th>3</th>\n",
       "      <td>4</td>\n",
       "      <td>The Secret Sin (1915)</td>\n",
       "      <td>drama</td>\n",
       "      <td>To help their unemployed father make ends meet...</td>\n",
       "    </tr>\n",
       "    <tr>\n",
       "      <th>4</th>\n",
       "      <td>5</td>\n",
       "      <td>The Unrecovered (2007)</td>\n",
       "      <td>drama</td>\n",
       "      <td>The film's title refers not only to the un-rec...</td>\n",
       "    </tr>\n",
       "  </tbody>\n",
       "</table>\n",
       "</div>"
      ],
      "text/plain": [
       "   index                        movie_name     genre  \\\n",
       "0      1      Oscar et la dame rose (2009)     drama   \n",
       "1      2                      Cupid (1997)  thriller   \n",
       "2      3  Young, Wild and Wonderful (1980)     adult   \n",
       "3      4             The Secret Sin (1915)     drama   \n",
       "4      5            The Unrecovered (2007)     drama   \n",
       "\n",
       "                                         description  \n",
       "0  Listening in to a conversation between his doc...  \n",
       "1  A brother and sister with a past incestuous re...  \n",
       "2  As the bus empties the students for their fiel...  \n",
       "3  To help their unemployed father make ends meet...  \n",
       "4  The film's title refers not only to the un-rec...  "
      ]
     },
     "execution_count": 7,
     "metadata": {},
     "output_type": "execute_result"
    }
   ],
   "source": [
    "combined_df.head()"
   ]
  },
  {
   "cell_type": "code",
   "execution_count": 9,
   "id": "ae09ab02-aee8-44eb-811b-6484fbbd1311",
   "metadata": {},
   "outputs": [],
   "source": [
    "tfidf_vectorizer = TfidfVectorizer(max_features=5000, stop_words='english')\n",
    "X = tfidf_vectorizer.fit_transform(combined_df['description'])\n",
    "y = combined_df['genre']"
   ]
  },
  {
   "cell_type": "code",
   "execution_count": 10,
   "id": "d07bedea-7984-4ecc-bdd2-3cbfce973154",
   "metadata": {},
   "outputs": [],
   "source": [
    "X_train, X_val, y_train, y_val = train_test_split(X, y, test_size=0.2, random_state=42)"
   ]
  },
  {
   "cell_type": "code",
   "execution_count": 13,
   "id": "69fb9ab8-ca8a-44cc-8165-40b54671bad4",
   "metadata": {},
   "outputs": [],
   "source": [
    "X_test = tfidf_vectorizer.transform(test_df['description'])\n",
    "y_test = validation_df['genre']"
   ]
  },
  {
   "cell_type": "code",
   "execution_count": 15,
   "id": "a1cd79fb-1cfc-40ca-9a05-cb7d2c49eb5b",
   "metadata": {},
   "outputs": [
    {
     "name": "stdout",
     "output_type": "stream",
     "text": [
      "Naive Bayes Accuracy: 0.5515\n"
     ]
    },
    {
     "name": "stderr",
     "output_type": "stream",
     "text": [
      "C:\\Users\\gowth\\anaconda3\\Lib\\site-packages\\sklearn\\metrics\\_classification.py:1531: UndefinedMetricWarning: Precision is ill-defined and being set to 0.0 in labels with no predicted samples. Use `zero_division` parameter to control this behavior.\n",
      "  _warn_prf(average, modifier, f\"{metric.capitalize()} is\", len(result))\n",
      "C:\\Users\\gowth\\anaconda3\\Lib\\site-packages\\sklearn\\metrics\\_classification.py:1531: UndefinedMetricWarning: Precision is ill-defined and being set to 0.0 in labels with no predicted samples. Use `zero_division` parameter to control this behavior.\n",
      "  _warn_prf(average, modifier, f\"{metric.capitalize()} is\", len(result))\n",
      "C:\\Users\\gowth\\anaconda3\\Lib\\site-packages\\sklearn\\metrics\\_classification.py:1531: UndefinedMetricWarning: Precision is ill-defined and being set to 0.0 in labels with no predicted samples. Use `zero_division` parameter to control this behavior.\n",
      "  _warn_prf(average, modifier, f\"{metric.capitalize()} is\", len(result))\n"
     ]
    },
    {
     "name": "stdout",
     "output_type": "stream",
     "text": [
      "Naive Bayes Classification Report:\n",
      "               precision    recall  f1-score   support\n",
      "\n",
      "      action       0.62      0.20      0.30      1314\n",
      "       adult       0.75      0.11      0.19       590\n",
      "   adventure       0.80      0.15      0.25       775\n",
      "   animation       1.00      0.01      0.01       498\n",
      "   biography       0.00      0.00      0.00       264\n",
      "      comedy       0.54      0.47      0.50      7446\n",
      "       crime       1.00      0.00      0.00       505\n",
      " documentary       0.59      0.88      0.70     13096\n",
      "       drama       0.48      0.83      0.61     13612\n",
      "      family       0.75      0.01      0.02       783\n",
      "     fantasy       0.00      0.00      0.00       322\n",
      "   game-show       0.97      0.44      0.60       193\n",
      "     history       0.00      0.00      0.00       243\n",
      "      horror       0.71      0.45      0.55      2204\n",
      "       music       0.76      0.36      0.49       731\n",
      "     musical       0.00      0.00      0.00       276\n",
      "     mystery       0.00      0.00      0.00       318\n",
      "        news       0.00      0.00      0.00       181\n",
      "  reality-tv       0.63      0.06      0.12       883\n",
      "     romance       0.00      0.00      0.00       672\n",
      "      sci-fi       0.70      0.15      0.25       646\n",
      "       short       0.63      0.16      0.26      5072\n",
      "       sport       0.82      0.17      0.29       431\n",
      "   talk-show       0.78      0.02      0.04       391\n",
      "    thriller       0.51      0.04      0.07      1590\n",
      "         war       0.00      0.00      0.00       132\n",
      "     western       0.94      0.73      0.82      1032\n",
      "\n",
      "    accuracy                           0.55     54200\n",
      "   macro avg       0.52      0.19      0.23     54200\n",
      "weighted avg       0.57      0.55      0.49     54200\n",
      "\n",
      "Logistic Regression Accuracy: 0.6471\n"
     ]
    },
    {
     "name": "stderr",
     "output_type": "stream",
     "text": [
      "C:\\Users\\gowth\\anaconda3\\Lib\\site-packages\\sklearn\\metrics\\_classification.py:1531: UndefinedMetricWarning: Precision is ill-defined and being set to 0.0 in labels with no predicted samples. Use `zero_division` parameter to control this behavior.\n",
      "  _warn_prf(average, modifier, f\"{metric.capitalize()} is\", len(result))\n",
      "C:\\Users\\gowth\\anaconda3\\Lib\\site-packages\\sklearn\\metrics\\_classification.py:1531: UndefinedMetricWarning: Precision is ill-defined and being set to 0.0 in labels with no predicted samples. Use `zero_division` parameter to control this behavior.\n",
      "  _warn_prf(average, modifier, f\"{metric.capitalize()} is\", len(result))\n"
     ]
    },
    {
     "name": "stdout",
     "output_type": "stream",
     "text": [
      "Logistic Regression Classification Report:\n",
      "               precision    recall  f1-score   support\n",
      "\n",
      "      action       0.59      0.42      0.49      1314\n",
      "       adult       0.75      0.37      0.49       590\n",
      "   adventure       0.71      0.28      0.40       775\n",
      "   animation       0.72      0.17      0.28       498\n",
      "   biography       0.00      0.00      0.00       264\n",
      "      comedy       0.60      0.66      0.63      7446\n",
      "       crime       0.59      0.11      0.18       505\n",
      " documentary       0.72      0.87      0.79     13096\n",
      "       drama       0.60      0.81      0.69     13612\n",
      "      family       0.66      0.20      0.31       783\n",
      "     fantasy       0.69      0.12      0.20       322\n",
      "   game-show       0.88      0.58      0.70       193\n",
      "     history       0.50      0.00      0.01       243\n",
      "      horror       0.70      0.66      0.68      2204\n",
      "       music       0.73      0.58      0.65       731\n",
      "     musical       0.63      0.06      0.11       276\n",
      "     mystery       0.63      0.06      0.11       318\n",
      "        news       0.82      0.15      0.26       181\n",
      "  reality-tv       0.65      0.33      0.44       883\n",
      "     romance       0.61      0.08      0.14       672\n",
      "      sci-fi       0.65      0.39      0.49       646\n",
      "       short       0.57      0.43      0.49      5072\n",
      "       sport       0.71      0.43      0.53       431\n",
      "   talk-show       0.73      0.30      0.42       391\n",
      "    thriller       0.56      0.24      0.33      1590\n",
      "         war       0.74      0.13      0.22       132\n",
      "     western       0.91      0.81      0.86      1032\n",
      "\n",
      "    accuracy                           0.65     54200\n",
      "   macro avg       0.65      0.34      0.40     54200\n",
      "weighted avg       0.64      0.65      0.62     54200\n",
      "\n"
     ]
    },
    {
     "name": "stderr",
     "output_type": "stream",
     "text": [
      "C:\\Users\\gowth\\anaconda3\\Lib\\site-packages\\sklearn\\metrics\\_classification.py:1531: UndefinedMetricWarning: Precision is ill-defined and being set to 0.0 in labels with no predicted samples. Use `zero_division` parameter to control this behavior.\n",
      "  _warn_prf(average, modifier, f\"{metric.capitalize()} is\", len(result))\n"
     ]
    }
   ],
   "source": [
    "# Create a dictionary with different models\n",
    "models = {\n",
    "    \"Naive Bayes\": MultinomialNB(),\n",
    "    \"Logistic Regression\": LogisticRegression(max_iter=200)\n",
    "}\n",
    "\n",
    "# Train and evaluate each model\n",
    "for model_name, model in models.items():\n",
    "    # Train the model\n",
    "    model.fit(X_train, y_train)\n",
    "    \n",
    "    # Predict on the validation set or test data\n",
    "    y_pred = model.predict(X_test)\n",
    "    \n",
    "    # Evaluate performance\n",
    "    accuracy = accuracy_score(y_test, y_pred)\n",
    "    print(f\"{model_name} Accuracy: {accuracy:.4f}\")\n",
    "    print(f\"{model_name} Classification Report:\\n\", classification_report(y_test, y_pred))"
   ]
  },
  {
   "cell_type": "code",
   "execution_count": 16,
   "id": "98cd7116-8bc6-4d27-ae6c-8aa9195414fd",
   "metadata": {},
   "outputs": [],
   "source": [
    "# Function to predict the genre of a new movie based on its description\n",
    "def predict_genre(movie_description):\n",
    "    # Transform the new movie description into the TF-IDF format\n",
    "    description_tfidf = tfidf_vectorizer.transform([movie_description])\n",
    "    \n",
    "    # Use the trained Naive Bayes model to predict the genre (you can choose any model)\n",
    "    predicted_genre = models[\"Naive Bayes\"].predict(description_tfidf)\n",
    "    return predicted_genre[0]"
   ]
  },
  {
   "cell_type": "code",
   "execution_count": 17,
   "id": "53d3aa5d-6dc2-446b-89b8-a902756e3be9",
   "metadata": {},
   "outputs": [
    {
     "name": "stdin",
     "output_type": "stream",
     "text": [
      "Enter the movie description: The beautiful but neglected wife of a brilliant architect from Milan, betrayed by her husband and mocked by her friend who manages the amorous adventures that she dreams of having, decides to take vengeance of the two, seducing her friend's husband and her young son.\n"
     ]
    },
    {
     "name": "stdout",
     "output_type": "stream",
     "text": [
      "The predicted genre for the movie is: drama\n"
     ]
    }
   ],
   "source": [
    "movie_description = input(\"Enter the movie description:\")\n",
    "predicted_genre = predict_genre(movie_description)\n",
    "print(f\"The predicted genre for the movie is: {predicted_genre}\")"
   ]
  },
  {
   "cell_type": "code",
   "execution_count": null,
   "id": "4508d576-af16-4431-9ea5-9f92f1715f7a",
   "metadata": {},
   "outputs": [],
   "source": []
  }
 ],
 "metadata": {
  "kernelspec": {
   "display_name": "Python 3 (ipykernel)",
   "language": "python",
   "name": "python3"
  },
  "language_info": {
   "codemirror_mode": {
    "name": "ipython",
    "version": 3
   },
   "file_extension": ".py",
   "mimetype": "text/x-python",
   "name": "python",
   "nbconvert_exporter": "python",
   "pygments_lexer": "ipython3",
   "version": "3.12.7"
  }
 },
 "nbformat": 4,
 "nbformat_minor": 5
}
